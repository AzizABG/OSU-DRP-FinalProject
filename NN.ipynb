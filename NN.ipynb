{
 "cells": [
  {
   "cell_type": "code",
   "execution_count": 1,
   "id": "f40780d6-25b2-473f-a310-cc71642e41aa",
   "metadata": {
    "tags": []
   },
   "outputs": [
    {
     "name": "stderr",
     "output_type": "stream",
     "text": [
      "2023-04-04 14:48:41.524216: I tensorflow/core/platform/cpu_feature_guard.cc:182] This TensorFlow binary is optimized to use available CPU instructions in performance-critical operations.\n",
      "To enable the following instructions: SSE3 SSE4.1 SSE4.2 AVX AVX2 FMA, in other operations, rebuild TensorFlow with the appropriate compiler flags.\n"
     ]
    }
   ],
   "source": [
    "import pandas as pd\n",
    "import numpy as np\n",
    "import tensorflow as tf\n",
    "from sklearn.model_selection import train_test_split\n",
    "from tensorflow import keras"
   ]
  },
  {
   "cell_type": "code",
   "execution_count": 2,
   "id": "34a93671-b84e-44a6-8b24-495056b8ebeb",
   "metadata": {
    "tags": []
   },
   "outputs": [],
   "source": [
    "df = pd.read_csv('winequalityN.csv')"
   ]
  },
  {
   "cell_type": "code",
   "execution_count": 3,
   "id": "5e3ff20f-9601-453a-a1b3-fa9f7ddd2e58",
   "metadata": {
    "tags": []
   },
   "outputs": [],
   "source": [
    "split_df = df.groupby('type')"
   ]
  },
  {
   "cell_type": "code",
   "execution_count": 4,
   "id": "bf8b9574-43e4-4a09-b1a4-9e970950e44e",
   "metadata": {
    "tags": []
   },
   "outputs": [],
   "source": [
    "red_df = split_df.get_group('red')\n",
    "white_df = split_df.get_group('white')"
   ]
  },
  {
   "cell_type": "markdown",
   "id": "f78eba02-f75c-4557-97e6-db75027c59dc",
   "metadata": {
    "tags": []
   },
   "source": [
    "Now, Let's only focus on white wines."
   ]
  },
  {
   "cell_type": "code",
   "execution_count": 5,
   "id": "057a38e6-7fbc-46e0-b628-6a161b680546",
   "metadata": {
    "tags": []
   },
   "outputs": [
    {
     "data": {
      "text/plain": [
       "array([[ 7.3 ,  0.17,  0.36, ...,  3.14,  0.41, 12.4 ],\n",
       "       [ 6.3 ,  0.25,  0.44, ...,  3.18,  0.52,  9.5 ],\n",
       "       [ 5.6 ,  0.32,  0.33, ...,  3.25,  0.49, 11.1 ],\n",
       "       ...,\n",
       "       [ 7.6 ,  0.27,  0.52, ...,  3.02,  0.53, 11.4 ],\n",
       "       [ 6.3 ,  0.24,  0.29, ...,  3.17,  0.38, 10.6 ],\n",
       "       [ 8.1 ,  0.27,  0.35, ...,  3.22,  0.63, 10.4 ]], dtype=float32)"
      ]
     },
     "execution_count": 5,
     "metadata": {},
     "output_type": "execute_result"
    }
   ],
   "source": [
    "train_white, test_white = train_test_split(white_df, test_size=0.2, random_state=42)\n",
    "\n",
    "train_white = train_white.to_numpy()\n",
    "test_white = test_white.to_numpy()\n",
    "\n",
    "X_white_train = train_white[:, :-1]\n",
    "X_white_test = test_white[:, :-1]\n",
    "Y_white_train = train_white[:, -1]\n",
    "Y_white_test = test_white[:, -1]\n",
    "\n",
    "X_white_train = X_white_train[:,1:]\n",
    "X_white_test = X_white_test[:,1:]\n",
    "\n",
    "X_white_train = np.asarray(X_white_train).astype('float32')\n",
    "X_white_test = np.asarray(X_white_test).astype('float32')\n",
    "Y_white_train = np.asarray(Y_white_train).astype('int')\n",
    "Y_white_test = np.asarray(Y_white_test).astype('int')\n",
    "\n",
    "X_white_train"
   ]
  },
  {
   "cell_type": "code",
   "execution_count": 6,
   "id": "c0eb2a3a-2990-4f0c-8075-d58a807c68c9",
   "metadata": {
    "tags": []
   },
   "outputs": [
    {
     "name": "stderr",
     "output_type": "stream",
     "text": [
      "2023-04-04 14:48:43.887564: I tensorflow/core/common_runtime/process_util.cc:146] Creating new thread pool with default inter op setting: 2. Tune using inter_op_parallelism_threads for best performance.\n"
     ]
    }
   ],
   "source": [
    "model = tf.keras.Sequential([\n",
    "    tf.keras.layers.Normalization(axis=-1, mean=None, variance=None, invert=False),\n",
    "    tf.keras.layers.Dense(5, activation='relu'),\n",
    "    tf.keras.layers.Dense(10)\n",
    "])"
   ]
  },
  {
   "cell_type": "code",
   "execution_count": 7,
   "id": "5b1afda3-f6dc-4291-9270-f09b61b58aaf",
   "metadata": {
    "tags": []
   },
   "outputs": [],
   "source": [
    "model.compile(optimizer='adam',\n",
    "              loss=tf.keras.losses.SparseCategoricalCrossentropy(from_logits=True),\n",
    "              metrics=['accuracy'])"
   ]
  },
  {
   "cell_type": "code",
   "execution_count": 8,
   "id": "fec6353a-5515-4529-9bda-efc0d508c808",
   "metadata": {
    "tags": []
   },
   "outputs": [
    {
     "name": "stdout",
     "output_type": "stream",
     "text": [
      "Epoch 1/10\n",
      "123/123 [==============================] - 1s 3ms/step - loss: 6.7090 - accuracy: 0.4222\n",
      "Epoch 2/10\n",
      "123/123 [==============================] - 1s 4ms/step - loss: 2.1169 - accuracy: 0.4507\n",
      "Epoch 3/10\n",
      "123/123 [==============================] - 0s 3ms/step - loss: 2.0067 - accuracy: 0.4507\n",
      "Epoch 4/10\n",
      "123/123 [==============================] - 0s 3ms/step - loss: 1.9097 - accuracy: 0.4507\n",
      "Epoch 5/10\n",
      "123/123 [==============================] - 0s 3ms/step - loss: 1.8252 - accuracy: 0.4507\n",
      "Epoch 6/10\n",
      "123/123 [==============================] - 1s 5ms/step - loss: 1.7525 - accuracy: 0.4507\n",
      "Epoch 7/10\n",
      "123/123 [==============================] - 1s 5ms/step - loss: 1.6900 - accuracy: 0.4507\n",
      "Epoch 8/10\n",
      "123/123 [==============================] - 1s 5ms/step - loss: 1.6367 - accuracy: 0.4507\n",
      "Epoch 9/10\n",
      "123/123 [==============================] - 0s 4ms/step - loss: 1.5913 - accuracy: 0.4507\n",
      "Epoch 10/10\n",
      "123/123 [==============================] - 0s 4ms/step - loss: 1.5527 - accuracy: 0.4507\n"
     ]
    },
    {
     "data": {
      "text/plain": [
       "<keras.callbacks.History at 0x7f6101f45e70>"
      ]
     },
     "execution_count": 8,
     "metadata": {},
     "output_type": "execute_result"
    }
   ],
   "source": [
    "model.fit(X_white_train, Y_white_train, epochs=10)"
   ]
  },
  {
   "cell_type": "code",
   "execution_count": 9,
   "id": "6dd39f7a-ff5d-4266-94e3-9b01dfa12bf8",
   "metadata": {
    "tags": []
   },
   "outputs": [
    {
     "name": "stdout",
     "output_type": "stream",
     "text": [
      "31/31 - 0s - loss: 1.5294 - accuracy: 0.4408 - 233ms/epoch - 8ms/step\n",
      "\n",
      "Test accuracy: 0.44081631302833557\n"
     ]
    }
   ],
   "source": [
    "test_loss, test_acc = model.evaluate(X_white_test,  Y_white_test, verbose=2)\n",
    "\n",
    "print('\\nTest accuracy:', test_acc)"
   ]
  }
 ],
 "metadata": {
  "kernelspec": {
   "display_name": "Python 3 (ipykernel)",
   "language": "python",
   "name": "python3"
  },
  "language_info": {
   "codemirror_mode": {
    "name": "ipython",
    "version": 3
   },
   "file_extension": ".py",
   "mimetype": "text/x-python",
   "name": "python",
   "nbconvert_exporter": "python",
   "pygments_lexer": "ipython3",
   "version": "3.10.10"
  }
 },
 "nbformat": 4,
 "nbformat_minor": 5
}
