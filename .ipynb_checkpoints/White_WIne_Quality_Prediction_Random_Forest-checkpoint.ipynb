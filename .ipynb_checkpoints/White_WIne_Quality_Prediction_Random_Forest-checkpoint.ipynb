{
 "cells": [
  {
   "cell_type": "code",
   "execution_count": 31,
   "id": "f993c7ff",
   "metadata": {},
   "outputs": [],
   "source": [
    "import numpy as np\n",
    "import pandas as pd\n",
    "import matplotlib.pyplot as plt\n",
    "\n",
    "from sklearn.model_selection import train_test_split\n",
    "from sklearn.decomposition import PCA\n",
    "from sklearn.pipeline import make_pipeline\n",
    "from sklearn.preprocessing import StandardScaler\n",
    "\n",
    "from sklearn.model_selection import GridSearchCV\n",
    "from sklearn.tree import DecisionTreeRegressor\n",
    "from sklearn.ensemble import RandomForestRegressor\n",
    "from sklearn.svm import SVR\n",
    "\n",
    "from sklearn.metrics import mean_squared_error, accuracy_score, make_scorer"
   ]
  },
  {
   "cell_type": "code",
   "execution_count": 11,
   "id": "55b557f6",
   "metadata": {},
   "outputs": [],
   "source": [
    "# Load and split data\n",
    "filename = \"Data/prep-winequality-white.csv\"\n",
    "df_white = pd.read_csv(filename)\n",
    "df_white.drop('Unnamed: 0', axis=1, inplace=True)\n",
    "train_w, test_w = train_test_split(df_white, test_size = 0.2, random_state = 42)\n",
    "\n",
    "train_y = train_w['quality']\n",
    "train_x = train_w.drop('quality', axis=1)\n",
    "\n",
    "test_y = test_w['quality']\n",
    "test_x = test_w.drop('quality', axis=1)"
   ]
  },
  {
   "cell_type": "code",
   "execution_count": 42,
   "id": "0deacec4",
   "metadata": {},
   "outputs": [],
   "source": [
    "# Setup model selection/search\n",
    "\n",
    "model_params = {\n",
    "    \n",
    "    \"Decision Tree\" : {\n",
    "        \"model\" : DecisionTreeRegressor(),\n",
    "        \"params\" : {\n",
    "            \"criterion\" : [\"squared_error\", \"absolute_error\"],\n",
    "            \"max_depth\" : [10, 50, 100]\n",
    "        }\n",
    "    },\n",
    "    \n",
    "    \"Random Forest\" : {\n",
    "        \"model\" : RandomForestRegressor(),\n",
    "        \"params\" : {\n",
    "            \"n_estimators\":[5, 25, 75],\n",
    "            \"max_depth\" : [10, 50, 100]\n",
    "        }\n",
    "    }\n",
    "}"
   ]
  },
  {
   "cell_type": "code",
   "execution_count": 43,
   "id": "86e6fc03",
   "metadata": {},
   "outputs": [],
   "source": [
    "# Custom scoring function for grid search so that it rounds the regression output\n",
    "# def round_score(score):\n",
    "#     return "
   ]
  },
  {
   "cell_type": "code",
   "execution_count": 44,
   "id": "823d7747",
   "metadata": {
    "scrolled": false
   },
   "outputs": [
    {
     "name": "stdout",
     "output_type": "stream",
     "text": [
      "           Model  Best_Score                                      Best_Params\n",
      "0  Decision Tree    0.191709  {'criterion': 'squared_error', 'max_depth': 10}\n",
      "1  Random Forest    0.505714           {'max_depth': 100, 'n_estimators': 75}\n"
     ]
    }
   ],
   "source": [
    "# Run model search with GridSearchCV\n",
    "score = []\n",
    "for model_name, mp in model_params.items():\n",
    "    clf = GridSearchCV(mp[\"model\"], mp[\"params\"], cv = 10, return_train_score= False)\n",
    "    clf.fit(train_x, train_y)\n",
    "    score.append({\n",
    "        \"Model\" : model_name,\n",
    "        \"Best_Score\" : clf.best_score_,\n",
    "        \"Best_Params\" : clf.best_params_\n",
    "    })\n",
    "    \n",
    "# View model search results\n",
    "df5 = pd.DataFrame(score,columns=[\"Model\",\"Best_Score\",\"Best_Params\"])\n",
    "print(df5)\n"
   ]
  },
  {
   "cell_type": "code",
   "execution_count": 76,
   "id": "f532d0d3",
   "metadata": {},
   "outputs": [
    {
     "name": "stdout",
     "output_type": "stream",
     "text": [
      "0.6538625481582945\n",
      "0.6770186335403726\n"
     ]
    }
   ],
   "source": [
    "# Random Forest based off gridsearch results\n",
    "\n",
    "# Make and fit decision tree regressor\n",
    "forest_w = RandomForestRegressor(max_depth=100, n_estimators=30)\n",
    "forest_w.fit(train_x, train_y)\n",
    "\n",
    "# Predict and score model\n",
    "pred_y = forest_w.predict(test_x).round(0)\n",
    "print(mean_squared_error(test_y, pred_y, squared=False))\n",
    "print(accuracy_score(test_y, pred_y))"
   ]
  },
  {
   "cell_type": "code",
   "execution_count": 81,
   "id": "f49a0372",
   "metadata": {},
   "outputs": [
    {
     "name": "stdout",
     "output_type": "stream",
     "text": [
      "0.8272031252068424\n",
      "0.6149068322981367\n"
     ]
    }
   ],
   "source": [
    "# Decision Tree\n",
    "\n",
    "# Make and fit decision tree regressor\n",
    "tree_w = DecisionTreeRegressor(max_depth=250, random_state=30)\n",
    "tree_w.fit(train_x, train_y)\n",
    "\n",
    "# Predict and score model\n",
    "pred_y = tree_w.predict(test_x).round(0)\n",
    "print(mean_squared_error(test_y, pred_y, squared=False))\n",
    "print(accuracy_score(test_y, pred_y))"
   ]
  },
  {
   "cell_type": "code",
   "execution_count": 69,
   "id": "c6b5fa07",
   "metadata": {},
   "outputs": [
    {
     "name": "stdout",
     "output_type": "stream",
     "text": [
      "0.7114851931869163\n",
      "0.6097308488612836\n"
     ]
    }
   ],
   "source": [
    "# Random Forest\n",
    "\n",
    "# Make and fit a random forest regressor\n",
    "forest_w = RandomForestRegressor(max_depth=10, n_estimators=50, random_state=50)\n",
    "forest_w.fit(train_x, train_y)\n",
    "\n",
    "# Predict and score model\n",
    "pred_y = forest_w.predict(test_x).round(0)\n",
    "print(mean_squared_error(test_y, pred_y, squared=False))\n",
    "print(accuracy_score(test_y, pred_y))"
   ]
  },
  {
   "cell_type": "code",
   "execution_count": 27,
   "id": "6601f9c5",
   "metadata": {},
   "outputs": [
    {
     "name": "stdout",
     "output_type": "stream",
     "text": [
      "0.6938057794709764\n",
      "0.6211180124223602\n"
     ]
    }
   ],
   "source": [
    "# Random Forest with transformed data\n",
    "\n",
    "# Make and transform with pipeline\n",
    "pca_pipeline = make_pipeline(StandardScaler(), PCA())\n",
    "train_x_t = pca_pipeline.fit_transform(train_x)\n",
    "test_x_t =  pca_pipeline.transform(test_x)\n",
    "\n",
    "# Make and fit a random forest regressor with transformed data\n",
    "forest_w = RandomForestRegressor(max_depth=10, n_estimators=50, random_state=50)\n",
    "forest_w.fit(train_x_t, train_y)\n",
    "\n",
    "# Predict and score model\n",
    "pred_y = forest_w.predict(test_x_t).round(0)\n",
    "print(mean_squared_error(test_y, pred_y, squared=False))\n",
    "print(accuracy_score(test_y, pred_y))"
   ]
  },
  {
   "cell_type": "code",
   "execution_count": 8,
   "id": "b58725fd",
   "metadata": {},
   "outputs": [
    {
     "name": "stdout",
     "output_type": "stream",
     "text": [
      "0.8618916073713346\n",
      "0.45510204081632655\n"
     ]
    }
   ],
   "source": [
    "# SVM\n",
    "\n",
    "# Make, transform, and fit with pipeline\n",
    "svm_reg = make_pipeline(StandardScaler(), SVR(kernel=\"poly\", degree=2, C=0.01, epsilon=0.1))\n",
    "svm_reg.fit(train_x, train_y)\n",
    "\n",
    "# Predict and score model\n",
    "pred_y = svm_reg.predict(test_x).round(0)\n",
    "print(mean_squared_error(test_y, pred_y, squared=False))\n",
    "print(accuracy_score(test_y, pred_y))"
   ]
  },
  {
   "cell_type": "code",
   "execution_count": null,
   "id": "feeee70b",
   "metadata": {},
   "outputs": [],
   "source": []
  }
 ],
 "metadata": {
  "kernelspec": {
   "display_name": "Python 3 (ipykernel)",
   "language": "python",
   "name": "python3"
  },
  "language_info": {
   "codemirror_mode": {
    "name": "ipython",
    "version": 3
   },
   "file_extension": ".py",
   "mimetype": "text/x-python",
   "name": "python",
   "nbconvert_exporter": "python",
   "pygments_lexer": "ipython3",
   "version": "3.9.13"
  }
 },
 "nbformat": 4,
 "nbformat_minor": 5
}
